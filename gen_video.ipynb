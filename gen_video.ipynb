{
 "cells": [
  {
   "cell_type": "code",
   "execution_count": 2,
   "metadata": {},
   "outputs": [],
   "source": [
    "import cv2\n",
    "import numpy as np\n",
    "import time"
   ]
  },
  {
   "cell_type": "code",
   "execution_count": 16,
   "metadata": {},
   "outputs": [],
   "source": [
    "# create a video writer object, avi uses *'MJPG' codec\n",
    "fourcc = cv2.VideoWriter('output_4.mp4', cv2.VideoWriter_fourcc(*'mp4v'), 15, (640,480))\n",
    "\n",
    "i = 0\n",
    "while i <= 2000:\n",
    "    img = cv2.imread('/home/ljy/output_sketches/38_4/38_4_32strokes_seed7000/jpg_logs/iter' + str(i) + '.jpg')\n",
    "    img = cv2.resize(img, (640,480))\n",
    "    count = 0\n",
    "    # write the fps of each frame\n",
    "    while count < 1:\n",
    "        fourcc.write(img)\n",
    "        count += 1\n",
    "    i += 10\n",
    "    \n",
    "fourcc.release()"
   ]
  },
  {
   "cell_type": "markdown",
   "metadata": {},
   "source": []
  }
 ],
 "metadata": {
  "kernelspec": {
   "display_name": "Python 3",
   "language": "python",
   "name": "python3"
  },
  "language_info": {
   "codemirror_mode": {
    "name": "ipython",
    "version": 3
   },
   "file_extension": ".py",
   "mimetype": "text/x-python",
   "name": "python",
   "nbconvert_exporter": "python",
   "pygments_lexer": "ipython3",
   "version": "3.10.6"
  },
  "orig_nbformat": 4
 },
 "nbformat": 4,
 "nbformat_minor": 2
}
